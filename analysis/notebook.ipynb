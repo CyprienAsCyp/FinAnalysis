{
 "cells": [
  {
   "cell_type": "code",
   "execution_count": 1,
   "metadata": {},
   "outputs": [],
   "source": [
    "import sys\n",
    "import os\n",
    "sys.path.append(f'{os.path.dirname(os.getcwd())}/src/')\n",
    "from weekly_vs_monthly_investment import StrategySimulator"
   ]
  },
  {
   "cell_type": "code",
   "execution_count": 2,
   "metadata": {},
   "outputs": [],
   "source": [
    "simulation = StrategySimulator(\n",
    "    symbol = \"AAPl\",\n",
    "    start_date = \"2000-01-01\",\n",
    "    end_date = \"2024-01-01\",\n",
    "    day_of_week_to_invest = 2,\n",
    "    day_of_month_to_invest = 10\n",
    ")"
   ]
  },
  {
   "cell_type": "code",
   "execution_count": 3,
   "metadata": {},
   "outputs": [
    {
     "name": "stderr",
     "output_type": "stream",
     "text": [
      "/home/cyprien-calmels/.cache/pypoetry/virtualenvs/finanalysis-EWB5Xepw-py3.11/lib/python3.11/site-packages/yfinance/utils.py:775: FutureWarning: The 'unit' keyword in TimedeltaIndex construction is deprecated and will be removed in a future version. Use pd.to_timedelta instead.\n",
      "  df.index += _pd.TimedeltaIndex(dst_error_hours, 'h')\n",
      "[*********************100%%**********************]  1 of 1 completed\n"
     ]
    },
    {
     "data": {
      "text/html": [
       "<div>\n",
       "<style scoped>\n",
       "    .dataframe tbody tr th:only-of-type {\n",
       "        vertical-align: middle;\n",
       "    }\n",
       "\n",
       "    .dataframe tbody tr th {\n",
       "        vertical-align: top;\n",
       "    }\n",
       "\n",
       "    .dataframe thead th {\n",
       "        text-align: right;\n",
       "    }\n",
       "</style>\n",
       "<table border=\"1\" class=\"dataframe\">\n",
       "  <thead>\n",
       "    <tr style=\"text-align: right;\">\n",
       "      <th></th>\n",
       "      <th>Open</th>\n",
       "      <th>High</th>\n",
       "      <th>Low</th>\n",
       "      <th>Close</th>\n",
       "      <th>Adj Close</th>\n",
       "      <th>Volume</th>\n",
       "      <th>day_of_week</th>\n",
       "      <th>day_of_month</th>\n",
       "      <th>weekly_investment</th>\n",
       "      <th>monthly_investment</th>\n",
       "      <th>weekly_shares</th>\n",
       "      <th>monthly_shares</th>\n",
       "    </tr>\n",
       "    <tr>\n",
       "      <th>Date</th>\n",
       "      <th></th>\n",
       "      <th></th>\n",
       "      <th></th>\n",
       "      <th></th>\n",
       "      <th></th>\n",
       "      <th></th>\n",
       "      <th></th>\n",
       "      <th></th>\n",
       "      <th></th>\n",
       "      <th></th>\n",
       "      <th></th>\n",
       "      <th></th>\n",
       "    </tr>\n",
       "  </thead>\n",
       "  <tbody>\n",
       "    <tr>\n",
       "      <th>2000-01-03</th>\n",
       "      <td>0.936384</td>\n",
       "      <td>1.004464</td>\n",
       "      <td>0.907924</td>\n",
       "      <td>0.999442</td>\n",
       "      <td>0.846127</td>\n",
       "      <td>535796800</td>\n",
       "      <td>0</td>\n",
       "      <td>3</td>\n",
       "      <td>0</td>\n",
       "      <td>0</td>\n",
       "      <td>0.000000</td>\n",
       "      <td>0.0</td>\n",
       "    </tr>\n",
       "    <tr>\n",
       "      <th>2000-01-04</th>\n",
       "      <td>0.966518</td>\n",
       "      <td>0.987723</td>\n",
       "      <td>0.903460</td>\n",
       "      <td>0.915179</td>\n",
       "      <td>0.774790</td>\n",
       "      <td>512377600</td>\n",
       "      <td>1</td>\n",
       "      <td>4</td>\n",
       "      <td>0</td>\n",
       "      <td>0</td>\n",
       "      <td>0.000000</td>\n",
       "      <td>0.0</td>\n",
       "    </tr>\n",
       "    <tr>\n",
       "      <th>2000-01-05</th>\n",
       "      <td>0.926339</td>\n",
       "      <td>0.987165</td>\n",
       "      <td>0.919643</td>\n",
       "      <td>0.928571</td>\n",
       "      <td>0.786128</td>\n",
       "      <td>778321600</td>\n",
       "      <td>2</td>\n",
       "      <td>5</td>\n",
       "      <td>1</td>\n",
       "      <td>0</td>\n",
       "      <td>1.013002</td>\n",
       "      <td>0.0</td>\n",
       "    </tr>\n",
       "    <tr>\n",
       "      <th>2000-01-06</th>\n",
       "      <td>0.947545</td>\n",
       "      <td>0.955357</td>\n",
       "      <td>0.848214</td>\n",
       "      <td>0.848214</td>\n",
       "      <td>0.718098</td>\n",
       "      <td>767972800</td>\n",
       "      <td>3</td>\n",
       "      <td>6</td>\n",
       "      <td>0</td>\n",
       "      <td>0</td>\n",
       "      <td>0.000000</td>\n",
       "      <td>0.0</td>\n",
       "    </tr>\n",
       "    <tr>\n",
       "      <th>2000-01-07</th>\n",
       "      <td>0.861607</td>\n",
       "      <td>0.901786</td>\n",
       "      <td>0.852679</td>\n",
       "      <td>0.888393</td>\n",
       "      <td>0.752113</td>\n",
       "      <td>460734400</td>\n",
       "      <td>4</td>\n",
       "      <td>7</td>\n",
       "      <td>0</td>\n",
       "      <td>0</td>\n",
       "      <td>0.000000</td>\n",
       "      <td>0.0</td>\n",
       "    </tr>\n",
       "  </tbody>\n",
       "</table>\n",
       "</div>"
      ],
      "text/plain": [
       "                Open      High       Low     Close  Adj Close     Volume  \\\n",
       "Date                                                                       \n",
       "2000-01-03  0.936384  1.004464  0.907924  0.999442   0.846127  535796800   \n",
       "2000-01-04  0.966518  0.987723  0.903460  0.915179   0.774790  512377600   \n",
       "2000-01-05  0.926339  0.987165  0.919643  0.928571   0.786128  778321600   \n",
       "2000-01-06  0.947545  0.955357  0.848214  0.848214   0.718098  767972800   \n",
       "2000-01-07  0.861607  0.901786  0.852679  0.888393   0.752113  460734400   \n",
       "\n",
       "            day_of_week  day_of_month  weekly_investment  monthly_investment  \\\n",
       "Date                                                                           \n",
       "2000-01-03            0             3                  0                   0   \n",
       "2000-01-04            1             4                  0                   0   \n",
       "2000-01-05            2             5                  1                   0   \n",
       "2000-01-06            3             6                  0                   0   \n",
       "2000-01-07            4             7                  0                   0   \n",
       "\n",
       "            weekly_shares  monthly_shares  \n",
       "Date                                       \n",
       "2000-01-03       0.000000             0.0  \n",
       "2000-01-04       0.000000             0.0  \n",
       "2000-01-05       1.013002             0.0  \n",
       "2000-01-06       0.000000             0.0  \n",
       "2000-01-07       0.000000             0.0  "
      ]
     },
     "execution_count": 3,
     "metadata": {},
     "output_type": "execute_result"
    },
    {
     "data": {
      "image/png": "[encoded data removed]",
      "text/plain": [
       "<Figure size 640x480 with 1 Axes>"
      ]
     },
     "metadata": {},
     "output_type": "display_data"
    }
   ],
   "source": [
    "df = simulation.get_df()\n",
    "df.head()"
   ]
  },
  {
   "cell_type": "code",
   "execution_count": 4,
   "metadata": {},
   "outputs": [
    {
     "name": "stderr",
     "output_type": "stream",
     "text": [
      "\u001b[32m2024-02-17 16:20:27.112\u001b[0m | \u001b[1mINFO    \u001b[0m | \u001b[36mweekly_vs_monthly_investment\u001b[0m:\u001b[36mget_number_of_traded_days\u001b[0m:\u001b[36m61\u001b[0m - \u001b[1mDays invested with the weekly strategy = 1240 \n",
      "Days invested with the monthly strategy = 203\u001b[0m\n",
      "\u001b[32m2024-02-17 16:20:27.114\u001b[0m | \u001b[1mINFO    \u001b[0m | \u001b[36mweekly_vs_monthly_investment\u001b[0m:\u001b[36mget_shares_per_traded_day\u001b[0m:\u001b[36m70\u001b[0m - \u001b[1mShares per traded day with weekly strategy = 0.5892309816752154 \n",
      "Shares per traded day with monthly strategy = 0.6019948280302712\u001b[0m\n",
      "\u001b[32m2024-02-17 16:20:27.115\u001b[0m | \u001b[1mINFO    \u001b[0m | \u001b[36mweekly_vs_monthly_investment\u001b[0m:\u001b[36mcompute_what_is_best_strategy\u001b[0m:\u001b[36m84\u001b[0m - \u001b[1mOn average, trading weekly instead of monthly was -2.120258474116654% better.\u001b[0m\n",
      "\u001b[32m2024-02-17 16:20:27.116\u001b[0m | \u001b[1mINFO    \u001b[0m | \u001b[36mweekly_vs_monthly_investment\u001b[0m:\u001b[36mcompute_what_is_best_strategy\u001b[0m:\u001b[36m92\u001b[0m - \u001b[1mFor each € invested weekly, from 2000-01-01 to 2024-01-01, one would earn 113.44464018265312 by selling on the 2023-12-29 00:00:00\u001b[0m\n",
      "\u001b[32m2024-02-17 16:20:27.117\u001b[0m | \u001b[1mINFO    \u001b[0m | \u001b[36mweekly_vs_monthly_investment\u001b[0m:\u001b[36mcompute_what_is_best_strategy\u001b[0m:\u001b[36m95\u001b[0m - \u001b[1mFor each € invested monthly, from 2000-01-01 to 2024-01-01, one would earn 115.90206350581114 by selling on the 2023-12-29 00:00:00\u001b[0m\n"
     ]
    }
   ],
   "source": [
    "simulation.compute_what_is_best_strategy(df)"
   ]
  }
 ],
 "metadata": {
  "kernelspec": {
   "display_name": "finanalysis-EWB5Xepw-py3.11",
   "language": "python",
   "name": "python3"
  },
  "language_info": {
   "codemirror_mode": {
    "name": "ipython",
    "version": 3
   },
   "file_extension": ".py",
   "mimetype": "text/x-python",
   "name": "python",
   "nbconvert_exporter": "python",
   "pygments_lexer": "ipython3",
   "version": "3.11.4"
  }
 },
 "nbformat": 4,
 "nbformat_minor": 2
}
